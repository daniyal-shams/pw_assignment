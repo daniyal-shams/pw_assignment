{
 "cells": [
  {
   "cell_type": "code",
   "execution_count": 81,
   "metadata": {},
   "outputs": [
    {
     "name": "stdout",
     "output_type": "stream",
     "text": [
      "value of x and y are:  2 & 4\n",
      "value of x and y after swapping are: x: 4  y: 2\n"
     ]
    }
   ],
   "source": [
    "# Python Basics Variable\n",
    "''' Q1) Declare two variables, `x` and `y`, and assign them integer values. Swap the\n",
    "values of these variables without using any temporary variable.'''\n",
    "\n",
    "x = int(input(\"Enter the value of x: \"))\n",
    "y = int(input(\"Enter the value of y: \"))\n",
    "\n",
    "print(\"value of x and y are: \", x, \"&\", y)\n",
    "\n",
    "x,y = y,x\n",
    "\n",
    "# After swapping\n",
    "\n",
    "print(\"value of x and y after swapping are x:\", x, \" y:\", y)\n"
   ]
  },
  {
   "cell_type": "code",
   "execution_count": 3,
   "metadata": {},
   "outputs": [
    {
     "name": "stdout",
     "output_type": "stream",
     "text": [
      "The area of rectangle is:  1008\n"
     ]
    }
   ],
   "source": [
    "''' Q2) Create a program that calculates the area of a rectangle. Take the length and width as inputs from the user and store them in variables. Calculate and\n",
    "display the area.'''\n",
    "\n",
    "length = float(input(\"Enter the  length of the rectangle: \"))\n",
    "width = float(input(\"Enter the width of the rectangle: \"))\n",
    "\n",
    "area = length*width\n",
    "\n",
    "print(\"The area of rectangle is: \", area)"
   ]
  },
  {
   "cell_type": "code",
   "execution_count": 83,
   "metadata": {},
   "outputs": [
    {
     "name": "stdout",
     "output_type": "stream",
     "text": [
      "The given temperature for celsius is:  20.0\n",
      "The converted temperature for fahrenheit is:  68.0\n"
     ]
    }
   ],
   "source": [
    "''' Q3) Write a Python program that converts temperatures from Celsius to\n",
    "Fahrenheit. Take the temperature in Celsius as input, store it in a variable,\n",
    "convert it to Fahrenheit, and display the result.'''\n",
    "\n",
    "celsius = float(input(\"Enter temperature in celsius\"))\n",
    "print(\"The given temperature for celsius is: \",celsius)\n",
    "\n",
    "fahrenheit = (celsius * 1.8) + 32\n",
    "print(\"The converted temperature for fahrenheit is: \", fahrenheit)\n"
   ]
  },
  {
   "cell_type": "code",
   "execution_count": 12,
   "metadata": {},
   "outputs": [
    {
     "name": "stdout",
     "output_type": "stream",
     "text": [
      "Length of the string is:  15\n"
     ]
    }
   ],
   "source": [
    "# String Based Questions\n",
    "''' Q1) Write a Python program that takes a string as input and prints the length of the string.'''\n",
    "\n",
    "string = input(\"Enter the string: \")\n",
    "\n",
    "print(\"Length of the string is: \",len(string))\n"
   ]
  },
  {
   "cell_type": "code",
   "execution_count": 69,
   "metadata": {},
   "outputs": [
    {
     "name": "stdout",
     "output_type": "stream",
     "text": [
      "Number off vowels:  3\n"
     ]
    }
   ],
   "source": [
    "''' Q2) Create a program that takes a sentence from the user and counts the number\n",
    "of vowels (a, e, i, o, u) in the string.'''\n",
    "\n",
    "def check_vowels(inp_str):\n",
    "    inp_str = inp_str.lower()\n",
    "    count = 0\n",
    "    vowels = set(\"aeiou\")\n",
    "\n",
    "    for char in inp_str:\n",
    "        if char in vowels:\n",
    "            count+=1\n",
    "        \n",
    "    return count\n",
    "\n",
    "input_str = input(\"Enter the string: \")\n",
    "print(\"Number off vowels: \",check_vowels(input_str))\n"
   ]
  },
  {
   "cell_type": "code",
   "execution_count": 59,
   "metadata": {},
   "outputs": [
    {
     "name": "stdout",
     "output_type": "stream",
     "text": [
      "dlroW olleH\n"
     ]
    }
   ],
   "source": [
    "''' Q3) Given a string, reverse the order of characters using string slicing and print the reversed string.'''\n",
    "\n",
    "def reversed_string(input_string):\n",
    "    reversed_string = \"\"\n",
    "\n",
    "    for char in input_string:\n",
    "        reversed_string = char + reversed_string\n",
    "\n",
    "    return reversed_string    \n",
    "\n",
    "inp_string = \"Hello World\"\n",
    "\n",
    "reverse_str = reversed_string(inp_string)\n",
    "print(reverse_str)"
   ]
  },
  {
   "cell_type": "code",
   "execution_count": 77,
   "metadata": {},
   "outputs": [
    {
     "name": "stdout",
     "output_type": "stream",
     "text": [
      "Given Input:  \n",
      "Palindrome\n"
     ]
    }
   ],
   "source": [
    "''' Q4) Write a program that takes a string as input and checks if it is a palindrome\n",
    "(reads the same forwards and backwards).'''\n",
    "\n",
    "def is_palindrome():\n",
    "    inp_str = input(\"Enter the string: \")\n",
    "    cleaned_string = inp_str.replace(\" \", \"\").lower()\n",
    "\n",
    "    reverse_str = inp_str[::-1]\n",
    "    \n",
    "    if(cleaned_string == reverse_str):\n",
    "        print(\"Given Input: \", inp_str)\n",
    "        print(\"Palindrome\")\n",
    "    else:\n",
    "        print(\"Given Input: \", inp_str)\n",
    "        print(\"Not palindrome\") \n",
    "\n",
    "is_palindrome()\n"
   ]
  },
  {
   "cell_type": "code",
   "execution_count": 79,
   "metadata": {},
   "outputs": [
    {
     "name": "stdout",
     "output_type": "stream",
     "text": [
      "Modified String without spaces:  helloworld\n"
     ]
    }
   ],
   "source": [
    "''' Q5) Create a program that takes a string as input and removes all the spaces from\n",
    "it. Print the modified string without spaces.'''\n",
    "\n",
    "\n",
    "inp_str = input(\"Enter a string: \")\n",
    "\n",
    "modified_str = \"\"\n",
    "\n",
    "for char in inp_str:\n",
    "    if char != \" \":\n",
    "        modified_str += char\n",
    "\n",
    "print(\"Modified String without spaces: \", modified_str)        \n"
   ]
  }
 ],
 "metadata": {
  "kernelspec": {
   "display_name": "Python 3",
   "language": "python",
   "name": "python3"
  },
  "language_info": {
   "codemirror_mode": {
    "name": "ipython",
    "version": 3
   },
   "file_extension": ".py",
   "mimetype": "text/x-python",
   "name": "python",
   "nbconvert_exporter": "python",
   "pygments_lexer": "ipython3",
   "version": "3.11.4"
  }
 },
 "nbformat": 4,
 "nbformat_minor": 2
}
